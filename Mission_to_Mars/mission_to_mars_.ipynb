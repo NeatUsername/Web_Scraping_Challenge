{
 "cells": [
  {
   "cell_type": "code",
   "execution_count": 1,
   "id": "whole-distributor",
   "metadata": {},
   "outputs": [],
   "source": [
    "from bs4 import BeautifulSoup as bs\n",
    "from splinter import Browser\n",
    "import pymongo\n",
    "from selenium import webdriver\n",
    "from webdriver_manager.chrome import ChromeDriverManager"
   ]
  },
  {
   "cell_type": "code",
   "execution_count": 2,
   "id": "heard-necklace",
   "metadata": {},
   "outputs": [
    {
     "name": "stderr",
     "output_type": "stream",
     "text": [
      "[WDM] - ====== WebDriver manager ======\n",
      "[WDM] - Current google-chrome version is 89.0.4389\n",
      "[WDM] - Get LATEST driver version for 89.0.4389\n"
     ]
    },
    {
     "name": "stdout",
     "output_type": "stream",
     "text": [
      "\n",
      "\n"
     ]
    },
    {
     "name": "stderr",
     "output_type": "stream",
     "text": [
      "[WDM] - Driver [C:\\Users\\simon\\.wdm\\drivers\\chromedriver\\win32\\89.0.4389.23\\chromedriver.exe] found in cache\n"
     ]
    }
   ],
   "source": [
    "# Setup splinter\n",
    "executable_path = {'executable_path': ChromeDriverManager().install()}\n",
    "browser = Browser('chrome', 'chromedriver.exe', headless=False)\n"
   ]
  },
  {
   "cell_type": "code",
   "execution_count": 3,
   "id": "connected-modeling",
   "metadata": {},
   "outputs": [],
   "source": [
    "#  Assignment Steps:\n",
    "\n",
    "# > Part I:  Scraping Data For Webpage\n",
    "# >>  Step 1:  Scrape NASA Mars News Site\n",
    "\n",
    "browser.visit('https://mars.nasa.gov/news/?page=0&per_page=40&order=publish_date+desc%2Ccreated_at+desc&search=&category=19%2C165%2C184%2C204&blank_scope=Latest')\n",
    "html = browser.html\n",
    "Mars_News_Soup = bs(html, 'html.parser')"
   ]
  },
  {
   "cell_type": "code",
   "execution_count": 9,
   "id": "informational-roads",
   "metadata": {
    "scrolled": true
   },
   "outputs": [
    {
     "name": "stdout",
     "output_type": "stream",
     "text": [
      "Another First: Perseverance Captures the Sounds of Driving on Mars\n",
      "NASA’s newest rover recorded audio of itself crunching over the surface of the Red Planet, adding a whole new dimension to Mars exploration.\n"
     ]
    }
   ],
   "source": [
    "# Can't determine why BS can't parse out the most recent articles, or in this case, even th preview text class object.\n",
    "\n",
    "post_title = Mars_News_Soup.find_all('div', class_='content_title')[1].text\n",
    "print(post_title)\n",
    "\n",
    "post_preview_text = Mars_News_Soup.find_all('div', class_='article_teaser_body')[0].text\n",
    "print(post_preview_text)"
   ]
  },
  {
   "cell_type": "code",
   "execution_count": null,
   "id": "standing-alabama",
   "metadata": {},
   "outputs": [],
   "source": [
    "# >>  Step 2:  Grab JPL Mars Feature Space Image\n",
    "# Splinter setup\n",
    "\n",
    "executable_path = {'executable_path': ChromeDriverManager().install()}\n",
    "browser = Browser('chrome', **executable_path, headless=False)\n",
    "\n",
    "url_2 = 'https://data-class-jpl-space.s3.amazonaws.com/JPL_Space/index.html'\n",
    "browser.visit(url_2)\n",
    "\n",
    "html_JPL_Image = browser.html\n",
    "soup_JPL_Image = bs(html_JPL_Image, \"html.parser\")\n",
    "\n",
    "featured_image = soup_JPL_Image.find()\n"
   ]
  },
  {
   "cell_type": "code",
   "execution_count": null,
   "id": "mounted-albany",
   "metadata": {},
   "outputs": [],
   "source": [
    "# >>  Step 3:  Scrape Mars Facts Tab"
   ]
  },
  {
   "cell_type": "code",
   "execution_count": null,
   "id": "special-blackjack",
   "metadata": {},
   "outputs": [],
   "source": [
    "# > Part II:  Store Data in Mongo Database, Serve to webpage via Flask\n"
   ]
  }
 ],
 "metadata": {
  "kernelspec": {
   "display_name": "PythonData",
   "language": "python",
   "name": "pythondata"
  },
  "language_info": {
   "codemirror_mode": {
    "name": "ipython",
    "version": 3
   },
   "file_extension": ".py",
   "mimetype": "text/x-python",
   "name": "python",
   "nbconvert_exporter": "python",
   "pygments_lexer": "ipython3",
   "version": "3.6.12"
  }
 },
 "nbformat": 4,
 "nbformat_minor": 5
}
