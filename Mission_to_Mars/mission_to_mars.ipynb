{
 "cells": [
  {
   "cell_type": "code",
   "execution_count": 1,
   "id": "prepared-navigator",
   "metadata": {},
   "outputs": [],
   "source": [
    "from bs4 import BeautifulSoup\n",
    "import requests\n",
    "import pymongo\n",
    "from splinter import Browser\n"
   ]
  },
  {
   "cell_type": "code",
   "execution_count": 2,
   "id": "reported-deficit",
   "metadata": {},
   "outputs": [],
   "source": [
    "#  Assignment Steps:\n",
    "\n",
    "# > Part I:  Scraping Data For Webpage\n",
    "\n",
    "# >>  Step 1:  Scrape NASA Mars News Site\n",
    "\n",
    "url = 'https://mars.nasa.gov/news/?page=0&per_page=40&order=publish_date+desc%2Ccreated_at+desc&search=&category=19%2C165%2C184%2C204&blank_scope=Latest'\n",
    "response = requests.get(url)\n",
    "soup = BeautifulSoup(response.text, 'html.parser')"
   ]
  },
  {
   "cell_type": "code",
   "execution_count": 15,
   "id": "plain-antique",
   "metadata": {
    "scrolled": true
   },
   "outputs": [
    {
     "name": "stdout",
     "output_type": "stream",
     "text": [
      "\n",
      "\n",
      "NASA's Perseverance Drives on Mars' Terrain for First Time\n",
      "\n",
      "\n",
      "None\n"
     ]
    }
   ],
   "source": [
    "post_title = soup.find('div', class_='content_title').text\n",
    "print(post_title)\n",
    "\n",
    "post_preview_text = soup.find('div', class_='article_teaser_body')\n",
    "print(post_preview_text)"
   ]
  },
  {
   "cell_type": "code",
   "execution_count": 4,
   "id": "developmental-saudi",
   "metadata": {},
   "outputs": [],
   "source": [
    "# post_preview = soup.find_all('div', class_='article_teaser_body')\n",
    "# results = soup.find_all('div', class_='list_text')\n",
    "# results"
   ]
  },
  {
   "cell_type": "code",
   "execution_count": 10,
   "id": "supported-strain",
   "metadata": {},
   "outputs": [
    {
     "name": "stdout",
     "output_type": "stream",
     "text": [
      "-------------\n",
      "\n",
      "NASA's Perseverance Drives on Mars' Terrain for First Time\n",
      "\n",
      "-------------\n",
      "\n",
      "NASA Awards Mars Ascent Propulsion System Contract for Sample Return\n",
      "\n",
      "-------------\n",
      "\n",
      "NASA to Provide Update on Perseverance ‘Firsts' Since Mars Landing \n",
      "\n",
      "-------------\n",
      "\n",
      "NASA's Mars Perseverance Rover Provides Front-Row Seat to Landing, First Audio Recording of Red Planet \n",
      "\n",
      "-------------\n",
      "\n",
      "NASA to Reveal New Video, Images From Mars Perseverance Rover\n",
      "\n",
      "-------------\n",
      "\n",
      "NASA's Next Mars Rover Is Ready for the Most Precise Landing Yet\n",
      "\n",
      "\n",
      "NASA's Next Mars Rover Is Ready for the Most Precise Landing Yet\n",
      "\n"
     ]
    }
   ],
   "source": [
    "# From: Mongo Scraping Activity 2-5\n",
    "\n",
    "results = soup.find_all('div', class_='content_title')\n",
    "\n",
    "# Loop through returned results\n",
    "for result in results:\n",
    "    \n",
    "    # Error handling\n",
    "    try:\n",
    "        \n",
    "        # Identify and return title of post\n",
    "        post_title = result.find('a').text\n",
    "        \n",
    "        # Identify and return preview text\n",
    "#         post_preview_text = result.find_all('div', class_='article_teaser_body').text\n",
    "        \n",
    "\n",
    "        # Run only if title is available\n",
    "        if (post_title):\n",
    "            # Print results\n",
    "            print('-------------')\n",
    "            print(post_title)\n",
    "#             print(post_preview_text)\n",
    "        \n",
    "#             # Dictionary to be inserted as a MongoDB document\n",
    "#             post = {\n",
    "#                 'title': post_title,\n",
    "#                 'preview': post_preview_text\n",
    "#                   }\n",
    "\n",
    "#             collection.insert_one(post)\n",
    "\n",
    "    except AttributeError as e:\n",
    "        print(e)\n",
    "    \n",
    "    \n",
    "print(post_title)"
   ]
  },
  {
   "cell_type": "code",
   "execution_count": null,
   "id": "sonic-field",
   "metadata": {},
   "outputs": [],
   "source": [
    "# >>  Step 2:  Grab JPL Mars Feature Space Image\n",
    "news_title = soup.find(\"div\", class_ = \"content_title\").text\n",
    "news_title = news_title.replace('\\n\\n', '')\n",
    "news_title"
   ]
  },
  {
   "cell_type": "code",
   "execution_count": null,
   "id": "modern-lightweight",
   "metadata": {},
   "outputs": [],
   "source": [
    "# >>  Step 3:  Scrape Mars Facts Tab"
   ]
  },
  {
   "cell_type": "code",
   "execution_count": null,
   "id": "stopped-mambo",
   "metadata": {},
   "outputs": [],
   "source": [
    "# > Part II:  Store Data in Mongo Database, Serve to webpage via Flask\n"
   ]
  }
 ],
 "metadata": {
  "kernelspec": {
   "display_name": "PythonData",
   "language": "python",
   "name": "pythondata"
  },
  "language_info": {
   "codemirror_mode": {
    "name": "ipython",
    "version": 3
   },
   "file_extension": ".py",
   "mimetype": "text/x-python",
   "name": "python",
   "nbconvert_exporter": "python",
   "pygments_lexer": "ipython3",
   "version": "3.6.12"
  }
 },
 "nbformat": 4,
 "nbformat_minor": 5
}
