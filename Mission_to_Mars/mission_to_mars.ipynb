{
 "cells": [
  {
   "cell_type": "code",
   "execution_count": 9,
   "id": "parallel-person",
   "metadata": {},
   "outputs": [],
   "source": [
    "from bs4 import BeautifulSoup\n",
    "import requests\n",
    "import pymongo\n",
    "from splinter import Browser\n"
   ]
  },
  {
   "cell_type": "code",
   "execution_count": 10,
   "id": "developed-blackberry",
   "metadata": {},
   "outputs": [],
   "source": [
    "#  Assignment Steps:\n",
    "\n",
    "# > Part I:  Scraping Data For Webpage\n",
    "\n",
    "# >>  Step 1:  Scrape NASA Mars News Site\n",
    "\n",
    "url = 'https://mars.nasa.gov/news/?page=0&per_page=40&order=publish_date+desc%2Ccreated_at+desc&search=&category=19%2C165%2C184%2C204&blank_scope=Latest'\n",
    "response = requests.get(url)\n",
    "soup = BeautifulSoup(response.text, 'html.parser')"
   ]
  },
  {
   "cell_type": "code",
   "execution_count": 16,
   "id": "rising-seller",
   "metadata": {
    "scrolled": true
   },
   "outputs": [
    {
     "data": {
      "text/plain": [
       "\"\\n\\nNASA's Perseverance Drives on Mars' Terrain for First Time\\n\\n\""
      ]
     },
     "execution_count": 16,
     "metadata": {},
     "output_type": "execute_result"
    }
   ],
   "source": [
    "# post_title = soup.find_all('div', class_='content_title')[0].text\n",
    "# print(post_title)\n",
    "post_title = soup.find('div', class_='content_title').text\n",
    "post_title"
   ]
  },
  {
   "cell_type": "code",
   "execution_count": 12,
   "id": "inner-cinema",
   "metadata": {},
   "outputs": [
    {
     "data": {
      "text/plain": [
       "[]"
      ]
     },
     "execution_count": 12,
     "metadata": {},
     "output_type": "execute_result"
    }
   ],
   "source": [
    "# post_preview = soup.find_all('div', class_='article_teaser_body')\n",
    "results = soup.find_all('div', class_='list_text')\n",
    "results"
   ]
  },
  {
   "cell_type": "code",
   "execution_count": null,
   "id": "blond-falls",
   "metadata": {},
   "outputs": [],
   "source": [
    "# From: Mongo Scraping Activity 2-5\n",
    "\n",
    "results = soup.find_all('div', class_='list_text')\n",
    "\n",
    "# Loop through returned results\n",
    "for result in results:\n",
    "    \n",
    "    # Error handling\n",
    "    try:\n",
    "        \n",
    "        # Identify and return title of post\n",
    "        post_title = result.find('div', class_='content_title').text\n",
    "        \n",
    "        # Identify and return preview text\n",
    "        post_preview_text = result.find_all('div', class_='article_teaser_body').text\n",
    "        \n",
    "\n",
    "        # Run only if title is available\n",
    "#         if (post_title):\n",
    "            # Print results\n",
    "        print('-------------')\n",
    "        print(post_title)\n",
    "        print(post_preview_text)\n",
    "        \n",
    "            # Dictionary to be inserted as a MongoDB document\n",
    "        post = {\n",
    "                'title': post_title,\n",
    "                'preview': post_preview_text\n",
    "                  }\n",
    "\n",
    "#             collection.insert_one(post)\n",
    "\n",
    "    except Exception as e:\n",
    "        print(e)\n",
    "    \n",
    "    \n",
    "    "
   ]
  },
  {
   "cell_type": "code",
   "execution_count": null,
   "id": "human-spare",
   "metadata": {},
   "outputs": [],
   "source": [
    "# >>  Step 2:  Grab JPL Mars Feature Space Image\n"
   ]
  },
  {
   "cell_type": "code",
   "execution_count": null,
   "id": "economic-devil",
   "metadata": {},
   "outputs": [],
   "source": [
    "# >>  Step 3:  Scrape Mars Facts Table\n"
   ]
  },
  {
   "cell_type": "code",
   "execution_count": null,
   "id": "industrial-setup",
   "metadata": {},
   "outputs": [],
   "source": [
    "# > Part II:  Store Data in Mongo Database, Serve to webpage via Flask\n"
   ]
  }
 ],
 "metadata": {
  "kernelspec": {
   "display_name": "PythonData",
   "language": "python",
   "name": "pythondata"
  },
  "language_info": {
   "codemirror_mode": {
    "name": "ipython",
    "version": 3
   },
   "file_extension": ".py",
   "mimetype": "text/x-python",
   "name": "python",
   "nbconvert_exporter": "python",
   "pygments_lexer": "ipython3",
   "version": "3.6.12"
  }
 },
 "nbformat": 4,
 "nbformat_minor": 5
}
