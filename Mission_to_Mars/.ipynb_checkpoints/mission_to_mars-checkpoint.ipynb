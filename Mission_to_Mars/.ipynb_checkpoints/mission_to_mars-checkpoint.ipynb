{
 "cells": [
  {
   "cell_type": "code",
   "execution_count": 1,
   "id": "mounted-landing",
   "metadata": {},
   "outputs": [],
   "source": [
    "from bs4 import BeautifulSoup\n",
    "import requests\n",
    "import pymongo\n",
    "from splinter import Browser\n"
   ]
  },
  {
   "cell_type": "code",
   "execution_count": 2,
   "id": "harmful-stick",
   "metadata": {},
   "outputs": [],
   "source": [
    "#  Assignment Steps:\n",
    "\n",
    "# > Part I:  Scraping Data For Webpage\n",
    "\n",
    "# >>  Step 1:  Scrape NASA Mars News Site\n",
    "\n",
    "url_1 = 'https://mars.nasa.gov/news/?page=0&per_page=40&order=publish_date+desc%2Ccreated_at+desc&search=&category=19%2C165%2C184%2C204&blank_scope=Latest'\n",
    "response = requests.get(url_1)\n",
    "soup = BeautifulSoup(response.text, 'html.parser')"
   ]
  },
  {
   "cell_type": "code",
   "execution_count": 3,
   "id": "underlying-helena",
   "metadata": {
    "scrolled": true
   },
   "outputs": [
    {
     "name": "stdout",
     "output_type": "stream",
     "text": [
      "\n",
      "\n",
      "NASA's Perseverance Drives on Mars' Terrain for First Time\n",
      "\n",
      "\n",
      "None\n"
     ]
    }
   ],
   "source": [
    "# Can't determine why BS can't parse out the most recent articles, or in this case, even th preview text class object.\n",
    "\n",
    "post_title = soup.find('div', class_='content_title').text\n",
    "print(post_title)\n",
    "\n",
    "post_preview_text = soup.find('div', class_='article_teaser_body')\n",
    "print(post_preview_text)"
   ]
  },
  {
   "cell_type": "code",
   "execution_count": null,
   "id": "excellent-sewing",
   "metadata": {},
   "outputs": [],
   "source": [
    "# >>  Step 2:  Grab JPL Mars Feature Space Image\n",
    "# Splinter setup\n",
    "\n",
    "executable_path = {'executable_path': ChromeDriverManager().install()}\n",
    "browser = Browser('chrome', **executable_path, headless=False)\n",
    "\n",
    "url_2 = 'https://data-class-jpl-space.s3.amazonaws.com/JPL_Space/index.html'\n",
    "browser.visit(url_2)\n",
    "\n",
    "html_JPL_Image = browser.html\n",
    "soup_JPL_Image = bs(html_JPL_Image, \"html.parser\")\n",
    "\n",
    "featured_image = soup_JPL_Image.find()\n"
   ]
  },
  {
   "cell_type": "code",
   "execution_count": null,
   "id": "peaceful-minimum",
   "metadata": {},
   "outputs": [],
   "source": [
    "# >>  Step 3:  Scrape Mars Facts Tab"
   ]
  },
  {
   "cell_type": "code",
   "execution_count": null,
   "id": "above-argument",
   "metadata": {},
   "outputs": [],
   "source": [
    "# > Part II:  Store Data in Mongo Database, Serve to webpage via Flask\n"
   ]
  }
 ],
 "metadata": {
  "kernelspec": {
   "display_name": "PythonData",
   "language": "python",
   "name": "pythondata"
  },
  "language_info": {
   "codemirror_mode": {
    "name": "ipython",
    "version": 3
   },
   "file_extension": ".py",
   "mimetype": "text/x-python",
   "name": "python",
   "nbconvert_exporter": "python",
   "pygments_lexer": "ipython3",
   "version": "3.6.12"
  }
 },
 "nbformat": 4,
 "nbformat_minor": 5
}
